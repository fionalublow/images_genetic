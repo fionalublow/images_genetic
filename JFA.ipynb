{
 "cells": [
  {
   "cell_type": "code",
   "execution_count": null,
   "id": "initial_id",
   "metadata": {
    "ExecuteTime": {
     "end_time": "2024-12-04T11:13:18.372633Z",
     "start_time": "2024-12-04T11:13:17.592013Z"
    }
   },
   "outputs": [],
   "source": [
    "import numpy as np\n",
    "from numba import cuda\n",
    "# need to require cudatoolkit\n",
    "\n",
    "@cuda.jit\n",
    "def jfa_step(grid, seeds, step, n):\n",
    "    x, y = cuda.grid(2)\n",
    "    if x >= n or y >= n:\n",
    "        return\n",
    "\n",
    "    for dx in [-step, 0, step]:\n",
    "        for dy in [-step, 0, step]:\n",
    "            nx, ny = x + dx, y + dy\n",
    "            if 0 <= nx < n and 0 <= ny < n:\n",
    "                seed_x, seed_y = seeds[nx, ny]\n",
    "                if seed_x != -1:  # Valid seed\n",
    "                    dist = (x - seed_x) ** 2 + (y - seed_y) ** 2\n",
    "                    current_dist = (x - grid[x, y, 0]) ** 2 + (y - grid[x, y, 1]) ** 2\n",
    "                    if current_dist == 0 or dist < current_dist:\n",
    "                        grid[x, y, 0] = seed_x\n",
    "                        grid[x, y, 1] = seed_y\n",
    "\n",
    "def jump_flood_gpu(grid_size, seed_points):\n",
    "    n = grid_size\n",
    "    grid = np.full((n, n, 2), -1, dtype=np.int32)\n",
    "    seeds = np.full((n, n, 2), -1, dtype=np.int32)\n",
    "    for x, y in seed_points:\n",
    "        seeds[x, y] = [x, y]\n",
    "\n",
    "    d_grid = cuda.to_device(grid)\n",
    "    d_seeds = cuda.to_device(seeds)\n",
    "\n",
    "    step = n // 2\n",
    "    threads_per_block = (16, 16)\n",
    "    blocks_per_grid = (n // threads_per_block[0] + 1, n // threads_per_block[1] + 1)\n",
    "\n",
    "    while step >= 1:\n",
    "        jfa_step[blocks_per_grid, threads_per_block](d_grid, d_seeds, step, n)\n",
    "        cuda.synchronize()\n",
    "        step //= 2\n",
    "\n",
    "    return d_grid.copy_to_host()\n",
    "\n",
    "# Example usage\n",
    "seed_points = [(10, 10), (50, 50), (90, 90)]\n",
    "result = jump_flood_gpu(128, seed_points)\n",
    "\n",
    "\n"
   ]
  },
  {
   "cell_type": "code",
   "execution_count": null,
   "id": "ebbf64b4b42e3372",
   "metadata": {
    "ExecuteTime": {
     "end_time": "2024-12-04T11:13:40.454437Z",
     "start_time": "2024-12-04T11:13:40.451804Z"
    }
   },
   "outputs": [],
   "source": [
    "print(result)"
   ]
  },
  {
   "cell_type": "code",
   "execution_count": null,
   "id": "c000919805d1fad4",
   "metadata": {
    "ExecuteTime": {
     "end_time": "2024-12-04T11:11:23.390671Z",
     "start_time": "2024-12-04T11:11:23.387501Z"
    }
   },
   "outputs": [],
   "source": [
    "from numba import cuda\n",
    "cuda.detect()"
   ]
  },
  {
   "cell_type": "code",
   "execution_count": null,
   "id": "61190e15d8869aa4",
   "metadata": {
    "ExecuteTime": {
     "end_time": "2024-12-04T11:37:15.160237Z",
     "start_time": "2024-12-04T11:37:14.981792Z"
    }
   },
   "outputs": [],
   "source": [
    "\n",
    "import numpy as np\n",
    "from numba import cuda, float32\n",
    "\n",
    "# Define the grid size\n",
    "grid_size = 128\n",
    "\n",
    "# Define the kernel to perform jump flooding with color\n",
    "@cuda.jit\n",
    "def jfa_kernel(grid, seeds, step, n, color_grid):\n",
    "    x, y = cuda.grid(2)\n",
    "\n",
    "    if x >= n or y >= n:\n",
    "        return\n",
    "\n",
    "    # Initialize the distance and color from the seed points\n",
    "    min_dist = float32(1e10)  # Default high distance\n",
    "    min_color = (float32(0.0), float32(0.0), float32(0.0))  # Default color (black)\n",
    "\n",
    "    # Loop through the seed points, considering the current step\n",
    "    for i in range(len(seeds)):\n",
    "        sx, sy = seeds[i]\n",
    "        dist = abs(x - sx) + abs(y - sy)  # Manhattan distance\n",
    "        # Only consider points within the \"step\" distance\n",
    "        if dist <= step:\n",
    "            if dist < min_dist:\n",
    "                min_dist = dist\n",
    "                min_color = (color_grid[sx, sy][0], color_grid[sx, sy][1], color_grid[sx, sy][2])\n",
    "\n",
    "    # Assign the minimum distance and color found\n",
    "    grid[x, y] = min_dist\n",
    "    color_grid[x, y] = min_color\n",
    "\n",
    "# Initialize the grid, color grid, and seeds\n",
    "grid = np.zeros((grid_size, grid_size), dtype=np.float32)\n",
    "# color_grid = np.zeros((grid_size, grid_size, 3), dtype=np.float32)  # RGB color grid\n",
    "# color_grid.fill(np.random.rand(grid_size, grid_size, 3))\n",
    "color_grid = np.random.rand(grid_size, grid_size, 3).astype(np.float32)\n",
    "seeds = [(10, 10), (50, 50), (90, 90)]  # Example seed points\n",
    "\n",
    "# Create a CUDA device array for the color grid and the grid\n",
    "d_grid = cuda.to_device(grid)\n",
    "d_color_grid = cuda.to_device(color_grid)\n",
    "d_seeds = cuda.to_device(seeds)\n",
    "\n",
    "# Perform Jump Flooding\n",
    "blockdim = (16, 16)  # Threads per block\n",
    "griddim = (grid_size // 16, grid_size // 16)  # Number of blocks\n",
    "\n",
    "# Run the kernel for different steps\n",
    "for step in [16, 8, 4, 2, 1]:\n",
    "    jfa_kernel[griddim, blockdim](d_grid, d_seeds, step, grid_size, d_color_grid)\n",
    "\n",
    "# Copy the result back to host\n",
    "grid_result = d_grid.copy_to_host()\n",
    "color_result = d_color_grid.copy_to_host()\n",
    "\n",
    "# Visualize the color grid and distance grid using matplotlib\n",
    "import matplotlib.pyplot as plt\n",
    "\n",
    "# Visualize the color grid\n",
    "plt.imshow(color_result)\n",
    "plt.title(\"Color Grid Based on Jump Flooding\")\n",
    "plt.show()\n",
    "\n",
    "# Visualize the distance grid\n",
    "plt.imshow(grid_result, cmap='hot')\n",
    "plt.title(\"Distance Grid\")\n",
    "plt.show()\n"
   ]
  }
 ],
 "metadata": {
  "kernelspec": {
   "display_name": "Python 3",
   "language": "python",
   "name": "python3"
  },
  "language_info": {
   "codemirror_mode": {
    "name": "ipython",
    "version": 2
   },
   "file_extension": ".py",
   "mimetype": "text/x-python",
   "name": "python",
   "nbconvert_exporter": "python",
   "pygments_lexer": "ipython2",
   "version": "2.7.6"
  }
 },
 "nbformat": 4,
 "nbformat_minor": 5
}
